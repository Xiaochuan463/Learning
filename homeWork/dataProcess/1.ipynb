{
 "cells": [
  {
   "cell_type": "code",
   "execution_count": 7,
   "id": "a7332d0c-3f4b-466c-8e89-c04ba4795d7b",
   "metadata": {},
   "outputs": [],
   "source": [
    "import numpy as np"
   ]
  },
  {
   "cell_type": "code",
   "execution_count": 8,
   "id": "51b6383c-c2d0-4694-97dc-5413550aff82",
   "metadata": {},
   "outputs": [],
   "source": [
    "s = {1,9,5,7}"
   ]
  },
  {
   "cell_type": "code",
   "execution_count": 9,
   "id": "95a22862-7712-4394-a8ea-4e950ff899e1",
   "metadata": {},
   "outputs": [],
   "source": [
    "s_a = np.array(s)\n"
   ]
  },
  {
   "cell_type": "code",
   "execution_count": 10,
   "id": "70f89683-6439-4966-be16-37553e4acd03",
   "metadata": {},
   "outputs": [
    {
     "data": {
      "text/plain": [
       "array({1, 5, 9, 7}, dtype=object)"
      ]
     },
     "execution_count": 10,
     "metadata": {},
     "output_type": "execute_result"
    }
   ],
   "source": [
    "s_a\n"
   ]
  },
  {
   "cell_type": "code",
   "execution_count": 11,
   "id": "e2c07c41-d48e-459a-a2c3-774242479714",
   "metadata": {},
   "outputs": [],
   "source": [
    "a = np.arange(16).reshape(4,4)"
   ]
  },
  {
   "cell_type": "code",
   "execution_count": 12,
   "id": "fe3d956e",
   "metadata": {},
   "outputs": [
    {
     "data": {
      "text/plain": [
       "array([[ 0,  1,  2,  3],\n",
       "       [ 4,  5,  6,  7],\n",
       "       [ 8,  9, 10, 11],\n",
       "       [12, 13, 14, 15]])"
      ]
     },
     "execution_count": 12,
     "metadata": {},
     "output_type": "execute_result"
    }
   ],
   "source": [
    "a"
   ]
  }
 ],
 "metadata": {
  "kernelspec": {
   "display_name": "vc",
   "language": "python",
   "name": "vc"
  },
  "language_info": {
   "codemirror_mode": {
    "name": "ipython",
    "version": 3
   },
   "file_extension": ".py",
   "mimetype": "text/x-python",
   "name": "python",
   "nbconvert_exporter": "python",
   "pygments_lexer": "ipython3",
   "version": "3.10.13"
  }
 },
 "nbformat": 4,
 "nbformat_minor": 5
}
