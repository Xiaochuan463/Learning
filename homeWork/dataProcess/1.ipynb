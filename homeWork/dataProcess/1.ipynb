{
 "cells": [
  {
   "cell_type": "code",
   "execution_count": null,
   "id": "a7332d0c-3f4b-466c-8e89-c04ba4795d7b",
   "metadata": {},
   "outputs": [],
   "source": [
    "import numpy as np"
   ]
  },
  {
   "cell_type": "code",
   "execution_count": null,
   "id": "51b6383c-c2d0-4694-97dc-5413550aff82",
   "metadata": {},
   "outputs": [],
   "source": [
    "s = {1,9,5,7}"
   ]
  },
  {
   "cell_type": "code",
   "execution_count": null,
   "id": "95a22862-7712-4394-a8ea-4e950ff899e1",
   "metadata": {},
   "outputs": [],
   "source": [
    "s_a = np.array(s)\n"
   ]
  },
  {
   "cell_type": "code",
   "execution_count": null,
   "id": "70f89683-6439-4966-be16-37553e4acd03",
   "metadata": {},
   "outputs": [],
   "source": [
    "s_a\n"
   ]
  },
  {
   "cell_type": "code",
   "execution_count": null,
   "id": "e2c07c41-d48e-459a-a2c3-774242479714",
   "metadata": {},
   "outputs": [],
   "source": [
    "a = np.arrange(16).reshape(4,4)"
   ]
  },
  {
   "cell_type": "code",
   "execution_count": null,
   "id": "fe3d956e",
   "metadata": {},
   "outputs": [],
   "source": [
    "a"
   ]
  },
  {
   "cell_type": "code",
   "execution_count": null,
   "id": "496f435f",
   "metadata": {},
   "outputs": [],
   "source": []
  }
 ],
 "metadata": {
  "kernelspec": {
   "display_name": "vc",
   "language": "python",
   "name": "vc"
  }
 },
 "nbformat": 4,
 "nbformat_minor": 5
}
